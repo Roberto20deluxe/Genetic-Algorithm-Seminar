{
 "cells": [
  {
   "cell_type": "markdown",
   "metadata": {
    "editable": true,
    "slideshow": {
     "slide_type": "slide"
    },
    "tags": []
   },
   "source": [
    "<span>\n",
    "<h1 style=\"text-align:center\" >Algoritmos genéticos</h1>\n",
    "\n",
    "<h2>Membros:</h2>\n",
    "\n",
    "- Gabriela Ribeiro Barbosa Lemos\n",
    "- Maria Luiza Ribeiro de Lima\n",
    "- Matheus Veríssimo Rodrigues Pinheiro\n",
    "- Roberto Regis Neto\n",
    "- Victor Hugo Sales da Silva\n",
    "- Vinícius Galindo Andrade Martins\n",
    "</span>"
   ]
  }
 ],
 "metadata": {
  "kernelspec": {
   "display_name": "Python 3 (ipykernel)",
   "language": "python",
   "name": "python3"
  },
  "language_info": {
   "codemirror_mode": {
    "name": "ipython",
    "version": 3
   },
   "file_extension": ".py",
   "mimetype": "text/x-python",
   "name": "python",
   "nbconvert_exporter": "python",
   "pygments_lexer": "ipython3",
   "version": "3.13.2"
  }
 },
 "nbformat": 4,
 "nbformat_minor": 4
}
